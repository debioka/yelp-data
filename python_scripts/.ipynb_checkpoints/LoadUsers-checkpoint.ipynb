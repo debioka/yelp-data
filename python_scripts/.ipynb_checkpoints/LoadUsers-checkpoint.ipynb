{
 "cells": [
  {
   "cell_type": "code",
   "execution_count": 1,
   "metadata": {
    "collapsed": true
   },
   "outputs": [],
   "source": [
    "import json\n",
    "import sqlite3"
   ]
  },
  {
   "cell_type": "code",
   "execution_count": 2,
   "metadata": {
    "collapsed": false
   },
   "outputs": [],
   "source": [
    "db_file = 'C:/Users/david/Documents/Big Data/Yelp/yelp.sqlite'\n",
    "file_dir = '/Users/david/Documents/Big Data/Yelp/yelp_academic_dataset_user.json'\n",
    "insert_script_template = 'INSERT INTO {} ({}) VALUES (?{});'  # template for insert command\n",
    "table_scripts = {}  # dictionary of create table scripts for each table\n",
    "ignored_keys = {}   # dictionary of keys ignored by each table\n",
    "string_values = {}  # dictionary of values that need to be converted to strings to input into table"
   ]
  },
  {
   "cell_type": "code",
   "execution_count": 3,
   "metadata": {
    "collapsed": false
   },
   "outputs": [],
   "source": [
    "# connect to database\n",
    "connection = sqlite3.connect(db_file)\n",
    "cursor = connection.cursor()"
   ]
  },
  {
   "cell_type": "code",
   "execution_count": 4,
   "metadata": {
    "collapsed": false
   },
   "outputs": [],
   "source": [
    "# user table constants\n",
    "table_name = 'users'\n",
    "table_scripts[table_name] = (   \"CREATE TABLE users (\"                     # create table command for sqlite\n",
    "                                \"user_id char(22) NOT NULL PRIMARY KEY, \"  # char(22) since id is fixed-length str\n",
    "                                \"name varchar(32) NOT NULL, \"              # longest name in file is 32 characters\n",
    "                                \"review_count int(10) NOT NULL, \"\n",
    "                                \"yelping_since date NOT NULL, \"\n",
    "                                \"useful int(10) NOT NULL, \"\n",
    "                                \"funny int(10) NOT NULL, \"\n",
    "                                \"cool int(10) NOT NULL, \"\n",
    "                                \"fans int(10) NOT NULL, \"\n",
    "                                \"average_stars FLOAT(3,2), \"\n",
    "                                \"compliment_hot int(5) NOT NULL, \"\n",
    "                                \"compliment_more int(5) NOT NULL, \"\n",
    "                                \"compliment_profile int(5) NOT NULL, \"\n",
    "                                \"compliment_cute int(5) NOT NULL, \"\n",
    "                                \"compliment_list int(5) NOT NULL, \"\n",
    "                                \"compliment_note int(5) NOT NULL, \"\n",
    "                                \"compliment_plain int(5) NOT NULL, \"\n",
    "                                \"compliment_cool int(5) NOT NULL, \"\n",
    "                                \"compliment_funny int(5) NOT NULL, \"\n",
    "                                \"compliment_writer int(5) NOT NULL, \"\n",
    "                                \"compliment_photos int(5) NOT NULL, \"\n",
    "                                \"type varchar(20))\")\n",
    "ignored_keys[table_name] = ['friends', 'elite']\n",
    "string_values = ['user_id', 'name', 'type', 'yelping_since']"
   ]
  },
  {
   "cell_type": "code",
   "execution_count": null,
   "metadata": {
    "collapsed": false
   },
   "outputs": [],
   "source": [
    "#makes tables\n",
    "try:\n",
    "    cursor.execute(table_scripts[table_name])\n",
    "except sqlite3.Error as error:\n",
    "    print('An error occurred when making table:', error)"
   ]
  },
  {
   "cell_type": "code",
   "execution_count": null,
   "metadata": {
    "collapsed": false,
    "scrolled": false
   },
   "outputs": [],
   "source": [
    "#inserts rows\n",
    "with open(file_dir, 'r', encoding=\"utf8\") as file:  # encoding specified since I was running into errors when I didn't\n",
    "    columns = [key for key in json.loads(file.readline()) if key not in ignored_keys[table_name]]  # used column names\n",
    "    file.seek(0)  # returns to beginning of file\n",
    "    for line in file:\n",
    "        user = json.loads(line)\n",
    "        data = []\n",
    "        for key in user:\n",
    "            if key not in ignored_keys[table_name]:\n",
    "                if key in string_values:\n",
    "                    data.append('\"{}\"'.format(str(user[key])))  # adds double quotes to the value so that\n",
    "                else:                                           # it's recognized as a string\n",
    "                    data.append(user[key])\n",
    "        cursor.execute(insert_script_template.format(table_name, ','.join(columns), ', ?' * (len(columns)-1)), data)\n",
    "    connection.commit()"
   ]
  },
  {
   "cell_type": "code",
   "execution_count": 11,
   "metadata": {
    "collapsed": false
   },
   "outputs": [
    {
     "name": "stdout",
     "output_type": "stream",
     "text": [
      "('\"EZmocAborM6z66rTzeZxzQ\"', '\"Rob\"', 761, '\"2009-09-12\"', 18456, 12316, 17579, 298, 3.59, 3904, 305, 207, 79, 19, 4705, 2617, 4192, 4192, 1147, 1347, '\"user\"') \n",
      "\n",
      "('\"myql3o3x22_ygECb8gVo7A\"', '\"Vivian\"', 80, '\"2009-06-27\"', 117, 28, 104, 34, 4.29, 64, 4, 5, 11, 1, 97, 129, 144, 144, 17, 24, '\"user\"') \n",
      "\n",
      "('\"FIk4lQQu1eTe2EpzQ4xhBA\"', '\"Carol\"', 841, '\"2010-08-26\"', 58, 6, 5, 48, 4.15, 14, 10, 3, 1, 2, 21, 23, 36, 36, 28, 4, '\"user\"') \n",
      "\n",
      "('\"ojovtd9c8GIeDiB8e0mq2w\"', '\"Miss Maggie\"', 376, '\"2008-05-31\"', 42, 51, 42, 28, 3.82, 32, 5, 4, 6, 0, 13, 29, 54, 54, 17, 1, '\"user\"') \n",
      "\n",
      "('\"uVEoZmmL9yK0NMgadLL0CQ\"', '\"Jeremy\"', 28, '\"2013-01-17\"', 8, 3, 3, 2, 2.97, 0, 0, 0, 0, 0, 0, 0, 0, 0, 0, 0, '\"user\"') \n",
      "\n",
      "('\"TprC8sujz8MkwuomrqUSiw\"', '\"Ramsey\"', 194, '\"2009-01-06\"', 5, 0, 0, 9, 3.76, 7, 1, 1, 0, 2, 9, 14, 19, 19, 9, 5, '\"user\"') \n",
      "\n",
      "('\"De-dImXf-TOFWWPTUWwIvw\"', '\"Ben\"', 111, '\"2011-06-09\"', 18, 11, 11, 4, 4.04, 16, 4, 0, 1, 0, 16, 45, 33, 33, 21, 3, '\"user\"') \n",
      "\n",
      "('\"vWXDkGEvICWNCjBW_fKBlg\"', '\"Carrie\"', 260, '\"2011-02-05\"', 89, 21, 17, 21, 3.73, 11, 5, 2, 4, 0, 4, 20, 18, 18, 10, 3, '\"user\"') \n",
      "\n",
      "('\"JMTr179r5SGHC_rPUBSWfQ\"', '\"Slavisa\"', 30, '\"2012-03-16\"', 23, 7, 2, 1, 3.42, 0, 0, 0, 0, 0, 1, 0, 0, 0, 0, 0, '\"user\"') \n",
      "\n",
      "('\"s7XIFcwZnhEUMzSZ4EiAHA\"', '\"Javier\"', 96, '\"2011-06-01\"', 29, 8, 8, 3, 3.39, 6, 5, 0, 0, 0, 9, 7, 7, 7, 9, 0, '\"user\"') \n",
      "\n"
     ]
    }
   ],
   "source": [
    "# to check if users loaded properly\n",
    "cursor.execute('SELECT * FROM {} LIMIT 10'.format(table_name))\n",
    "for user in cursor.fetchall():\n",
    "    print(user, '\\n')"
   ]
  },
  {
   "cell_type": "code",
   "execution_count": 12,
   "metadata": {
    "collapsed": true
   },
   "outputs": [],
   "source": [
    "connection.close()"
   ]
  }
 ],
 "metadata": {
  "kernelspec": {
   "display_name": "Python 3",
   "language": "python",
   "name": "python3"
  },
  "language_info": {
   "codemirror_mode": {
    "name": "ipython",
    "version": 3
   },
   "file_extension": ".py",
   "mimetype": "text/x-python",
   "name": "python",
   "nbconvert_exporter": "python",
   "pygments_lexer": "ipython3",
   "version": "3.6.0"
  }
 },
 "nbformat": 4,
 "nbformat_minor": 2
}
